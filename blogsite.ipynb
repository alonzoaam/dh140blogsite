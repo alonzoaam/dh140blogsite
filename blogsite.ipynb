{
 "cells": [
  {
   "cell_type": "markdown",
   "id": "83643779",
   "metadata": {},
   "source": [
    "# United States Prison Deaths: What can we learn?\n",
    "\n",
    "Alonzo Murrieta\n",
    "DH140 W23 Final Project\n",
    "\n",
    "For the reader, what do you think of when you think of jail, or prison? Do you think of justice, rehabilitation, punishment? The answer varies from person to person.\n",
    "\n",
    "Regardless of what you believe a prison in the United States is intended for, there exists a factor in prisons that it seems many gloss over; deaths.\n",
    "\n",
    "What do we currently know about prison deaths? What can we learn from the data that has been generated on the topic, what can we learn from the silences in the data, and what can we learn from the missing data? In this notebook, we will attempt to answer all of these questions.\n",
    "The dataset used in this project comes from Reuters, the link of which can be found at https://www.reuters.com/investigates/special-report/usa-jails-graphic/.\n",
    "\n",
    "While browsing potential datasets to use on this project, coming across Dying Inside made me question how prisons were impacted by COVID-19 and whether prisoners were dying to COVID-19 at a higher rate than the rest of the nation. Following this thought led to the creation of this project and the question, what do we currently know about prison deaths and what can we learn?\n"
   ]
  },
  {
   "cell_type": "code",
   "execution_count": null,
   "id": "895b64dd",
   "metadata": {},
   "outputs": [],
   "source": []
  }
 ],
 "metadata": {
  "kernelspec": {
   "display_name": "Python 3 (ipykernel)",
   "language": "python",
   "name": "python3"
  },
  "language_info": {
   "codemirror_mode": {
    "name": "ipython",
    "version": 3
   },
   "file_extension": ".py",
   "mimetype": "text/x-python",
   "name": "python",
   "nbconvert_exporter": "python",
   "pygments_lexer": "ipython3",
   "version": "3.10.8"
  }
 },
 "nbformat": 4,
 "nbformat_minor": 5
}
